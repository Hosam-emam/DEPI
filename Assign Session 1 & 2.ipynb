{
 "cells": [
  {
   "cell_type": "markdown",
   "metadata": {},
   "source": [
    "# Exercise -> String"
   ]
  },
  {
   "cell_type": "code",
   "execution_count": 1,
   "metadata": {},
   "outputs": [
    {
     "data": {
      "text/plain": [
       "'Python 4 Data Science'"
      ]
     },
     "execution_count": 1,
     "metadata": {},
     "output_type": "execute_result"
    }
   ],
   "source": [
    "############### (1) ###############\n",
    "\n",
    "python = 'Python '\n",
    "python +=  str(4) + ' Data ' + 'Science'\n",
    "python"
   ]
  },
  {
   "cell_type": "code",
   "execution_count": 2,
   "metadata": {},
   "outputs": [],
   "source": [
    "############### (2) ###############\n",
    "course = 'Python 4 Data Science'"
   ]
  },
  {
   "cell_type": "code",
   "execution_count": 3,
   "metadata": {},
   "outputs": [
    {
     "name": "stdout",
     "output_type": "stream",
     "text": [
      "Python 4 Data Science\n",
      "21\n"
     ]
    }
   ],
   "source": [
    "############### (3) ###############\n",
    "\n",
    "print(course)\n",
    "print(len(course))\n"
   ]
  },
  {
   "cell_type": "code",
   "execution_count": 4,
   "metadata": {},
   "outputs": [
    {
     "name": "stdout",
     "output_type": "stream",
     "text": [
      "Upper: PYTHON 4 DATA SCIENCE\n",
      "Lower: python 4 data science\n"
     ]
    }
   ],
   "source": [
    "############### (4) ###############\n",
    "\n",
    "company = course.upper()\n",
    "print('Upper:',company)\n",
    "company = course.lower()\n",
    "print('Lower:',company)"
   ]
  },
  {
   "cell_type": "code",
   "execution_count": 5,
   "metadata": {},
   "outputs": [
    {
     "name": "stdout",
     "output_type": "stream",
     "text": [
      "Python 4 data science\n",
      "Python 4 Data Science\n",
      "pYTHON 4 dATA sCIENCE\n"
     ]
    }
   ],
   "source": [
    "############### (5) ###############\n",
    "\n",
    "print(course.capitalize())\n",
    "print(course.title())\n",
    "print(course.swapcase())"
   ]
  },
  {
   "cell_type": "code",
   "execution_count": 6,
   "metadata": {},
   "outputs": [
    {
     "data": {
      "text/plain": [
       "'Python'"
      ]
     },
     "execution_count": 6,
     "metadata": {},
     "output_type": "execute_result"
    }
   ],
   "source": [
    "############### (6) ###############\n",
    "\n",
    "word = course.split(' ')[0]\n",
    "word"
   ]
  },
  {
   "cell_type": "code",
   "execution_count": 7,
   "metadata": {},
   "outputs": [
    {
     "name": "stdout",
     "output_type": "stream",
     "text": [
      "Contains the word Python: 0\n",
      "Contains the word Python: 0\n",
      "Contains the word Python: True\n"
     ]
    }
   ],
   "source": [
    "############### (7) ###############\n",
    "\n",
    "print('Contains the word Python:',course.index('Python'))\n",
    "print('Contains the word Python:',course.find('Python'))\n",
    "print('Contains the word Python:',course.__contains__('Python'))"
   ]
  },
  {
   "cell_type": "code",
   "execution_count": 8,
   "metadata": {},
   "outputs": [
    {
     "data": {
      "text/plain": [
       "'Python 4 Everybody'"
      ]
     },
     "execution_count": 8,
     "metadata": {},
     "output_type": "execute_result"
    }
   ],
   "source": [
    "############### (8) ###############\n",
    "\n",
    "rep_word = course.replace('Data Science','Everybody')\n",
    "rep_word"
   ]
  },
  {
   "cell_type": "code",
   "execution_count": 9,
   "metadata": {},
   "outputs": [
    {
     "data": {
      "text/plain": [
       "['Python', '4', 'Data', 'Science']"
      ]
     },
     "execution_count": 9,
     "metadata": {},
     "output_type": "execute_result"
    }
   ],
   "source": [
    "############### (9) ###############\n",
    "\n",
    "ls_str = course.split(' ')\n",
    "ls_str"
   ]
  },
  {
   "cell_type": "code",
   "execution_count": 10,
   "metadata": {},
   "outputs": [
    {
     "name": "stdout",
     "output_type": "stream",
     "text": [
      "['Google', ' Facebook', ' Microsoft', ' Apple', ' IBM', ' Oracle', ' Amazon']\n"
     ]
    }
   ],
   "source": [
    "############### (10) ###############\n",
    "\n",
    "string = 'Google, Facebook, Microsoft, Apple, IBM, Oracle, Amazon'\n",
    "\n",
    "print(string.split(','))"
   ]
  },
  {
   "cell_type": "markdown",
   "metadata": {},
   "source": [
    "### 11) The Letter D is the 9th character"
   ]
  },
  {
   "cell_type": "markdown",
   "metadata": {},
   "source": [
    "### 12) The second last index of the string is the letter c"
   ]
  },
  {
   "cell_type": "code",
   "execution_count": 11,
   "metadata": {},
   "outputs": [
    {
     "data": {
      "text/plain": [
       "'P4DS'"
      ]
     },
     "execution_count": 11,
     "metadata": {},
     "output_type": "execute_result"
    }
   ],
   "source": [
    "############### (13) ###############\n",
    "\n",
    "splt = course.split(' ')\n",
    "word = ''\n",
    "for item in splt:\n",
    "    word +=item[0]\n",
    "\n",
    "word"
   ]
  },
  {
   "cell_type": "code",
   "execution_count": 12,
   "metadata": {},
   "outputs": [
    {
     "name": "stdout",
     "output_type": "stream",
     "text": [
      "The first occurence of D: 9\n"
     ]
    }
   ],
   "source": [
    "############### (14) ###############\n",
    "\n",
    "print('The first occurence of D:', course.index('D'))"
   ]
  },
  {
   "cell_type": "code",
   "execution_count": 13,
   "metadata": {},
   "outputs": [
    {
     "name": "stdout",
     "output_type": "stream",
     "text": [
      "The last occurence of e: 20\n"
     ]
    }
   ],
   "source": [
    "############### (15) ###############\n",
    "\n",
    "print('The last occurence of e:', course.rfind('e'))"
   ]
  },
  {
   "cell_type": "code",
   "execution_count": 14,
   "metadata": {},
   "outputs": [
    {
     "name": "stdout",
     "output_type": "stream",
     "text": [
      "The first occurence of (because) in the sentence is: 33\n"
     ]
    }
   ],
   "source": [
    "############### (16) ###############\n",
    "\n",
    "sent = 'We cannot end the sentence with ‘because’, because ‘because’ is a conjunction.'\n",
    "print('The first occurence of (because) in the sentence is:',sent.find('because'))"
   ]
  },
  {
   "cell_type": "code",
   "execution_count": 15,
   "metadata": {},
   "outputs": [
    {
     "name": "stdout",
     "output_type": "stream",
     "text": [
      "The last occurence of (because) in the sentence is: 52\n",
      "The first occurence of (because) in the sentence is: 33\n"
     ]
    }
   ],
   "source": [
    "############### (17) ###############\n",
    "\n",
    "print('The last occurence of (because) in the sentence is:',sent.rindex('because'))\n",
    "print('The first occurence of (because) in the sentence is:',sent.index('because'))"
   ]
  },
  {
   "cell_type": "code",
   "execution_count": 16,
   "metadata": {},
   "outputs": [
    {
     "name": "stdout",
     "output_type": "stream",
     "text": [
      "‘because’, because ‘because’\n"
     ]
    }
   ],
   "source": [
    "############### (18) ###############\n",
    "\n",
    "start = sent.find('‘because’')\n",
    "end = sent.rfind('‘because’')\n",
    "sliced = sent[start:end + len('‘because’')]\n",
    "print(sliced)"
   ]
  },
  {
   "cell_type": "code",
   "execution_count": 17,
   "metadata": {},
   "outputs": [
    {
     "name": "stdout",
     "output_type": "stream",
     "text": [
      "Does The String start with (Python): True\n"
     ]
    }
   ],
   "source": [
    "############### (19) ###############\n",
    "\n",
    "print('Does The String start with (Python):',course.startswith('Python'))"
   ]
  },
  {
   "cell_type": "code",
   "execution_count": 18,
   "metadata": {},
   "outputs": [
    {
     "name": "stdout",
     "output_type": "stream",
     "text": [
      "Does the string contain the word (Python): True\n"
     ]
    }
   ],
   "source": [
    "############### (20) ###############\n",
    "\n",
    "print('Does the string contain the word (Python):',course.__contains__('Python'))"
   ]
  },
  {
   "cell_type": "code",
   "execution_count": 19,
   "metadata": {},
   "outputs": [
    {
     "name": "stdout",
     "output_type": "stream",
     "text": [
      "Stripped string: Python 4 Datascience\n"
     ]
    }
   ],
   "source": [
    "############### (21) ###############\n",
    "spaces = '  Python 4 Datascience  '\n",
    "print('Stripped string:',spaces.strip())"
   ]
  },
  {
   "cell_type": "code",
   "execution_count": 20,
   "metadata": {},
   "outputs": [
    {
     "data": {
      "text/plain": [
       "'Django # Flask # Bottle # Pyramid # Falcon'"
      ]
     },
     "execution_count": 20,
     "metadata": {},
     "output_type": "execute_result"
    }
   ],
   "source": [
    "############### (22) ###############\n",
    "\n",
    "lst = ['Django', 'Flask', 'Bottle', 'Pyramid', 'Falcon']\n",
    "\n",
    "joined = ' # '.join(lst)\n",
    "joined"
   ]
  },
  {
   "cell_type": "code",
   "execution_count": 21,
   "metadata": {},
   "outputs": [
    {
     "name": "stdout",
     "output_type": "stream",
     "text": [
      "True\n"
     ]
    }
   ],
   "source": [
    "############### (23) ###############\n",
    "\n",
    "print('Python_Datatypes_2021'.isidentifier())"
   ]
  },
  {
   "cell_type": "code",
   "execution_count": 22,
   "metadata": {},
   "outputs": [
    {
     "name": "stdout",
     "output_type": "stream",
     "text": [
      "10 + 5 = 15\n",
      "10 - 5 = 5\n",
      "10 * 5 = 50\n",
      "10 / 5 = 2.0\n",
      "10 % 5 = 0\n",
      "10 // 5 = 2\n",
      "10 ** 5 = 100000\n"
     ]
    }
   ],
   "source": [
    "############### (24) ###############\n",
    "\n",
    "a = int(input('enter the first number: '))\n",
    "b = int(input('Enter the second number: '))\n",
    "\n",
    "print(f'{a} + {b} = {a+b}')\n",
    "print(f'{a} - {b} = {a-b}')\n",
    "print(f'{a} * {b} = {a*b}')\n",
    "print(f'{a} / {b} = {a/b}')\n",
    "print(f'{a} % {b} = {a%b}')\n",
    "print(f'{a} // {b} = {a//+b}')\n",
    "print(f'{a} ** {b} = {a**b}')\n"
   ]
  },
  {
   "cell_type": "code",
   "execution_count": 23,
   "metadata": {},
   "outputs": [
    {
     "name": "stdout",
     "output_type": "stream",
     "text": [
      "Name\tAge\tCountry\tCity\n",
      "Milean\t96\tFinland\tTempere\n"
     ]
    }
   ],
   "source": [
    "############### (25) ###############\n",
    "print('Name\\tAge\\tCountry\\tCity\\nMilean\\t96\\tFinland\\tTempere')"
   ]
  },
  {
   "cell_type": "markdown",
   "metadata": {},
   "source": [
    "# Excercises -> if & elif & else"
   ]
  },
  {
   "cell_type": "code",
   "execution_count": 24,
   "metadata": {},
   "outputs": [
    {
     "name": "stdout",
     "output_type": "stream",
     "text": [
      "You are old enough to drive\n"
     ]
    }
   ],
   "source": [
    "############### (1) ###############\n",
    "\n",
    "age = int(input('Enter your age: '))\n",
    "if(age >= 18):\n",
    "    print('You are old enough to drive')\n",
    "else:\n",
    "    print(f'wait for {18-age} years to learn to drive')"
   ]
  },
  {
   "cell_type": "code",
   "execution_count": 25,
   "metadata": {},
   "outputs": [
    {
     "name": "stdout",
     "output_type": "stream",
     "text": [
      "I'm 29 years older than you.\n"
     ]
    }
   ],
   "source": [
    "############### (2) ###############\n",
    "\n",
    "my_age = int(input('Enter 1st Age: '))\n",
    "your_age = int(input('Enter 2nd Age: '))\n",
    "\n",
    "if(my_age > your_age):\n",
    "    print(f'I\\'m {my_age-your_age} years older than you.')\n",
    "elif(my_age < your_age):\n",
    "    print(f'You are {your_age - my_age} years older than me')\n",
    "else:\n",
    "    print('We Have the same age')"
   ]
  },
  {
   "cell_type": "code",
   "execution_count": 26,
   "metadata": {},
   "outputs": [
    {
     "name": "stdout",
     "output_type": "stream",
     "text": [
      "100 is greater than 99\n"
     ]
    }
   ],
   "source": [
    "############### (3) ###############\n",
    "\n",
    "num1 = int(input('Enter 1st number: '))\n",
    "num2 = int(input('Enter 2nd number: '))\n",
    "\n",
    "if(num1 > num2):\n",
    "    print(f'{num1} is greater than {num2}')\n",
    "elif(num1 < num2):\n",
    "    print(f'{num1} is less than {num2}')\n",
    "else:\n",
    "    print(f'{num1} is equal to {num2}')"
   ]
  },
  {
   "cell_type": "code",
   "execution_count": 27,
   "metadata": {},
   "outputs": [
    {
     "name": "stdout",
     "output_type": "stream",
     "text": [
      "Your GPA is: B\n"
     ]
    }
   ],
   "source": [
    "############### (4) ###############\n",
    "\n",
    "grade = int(input('Please, enter your grade'))\n",
    "gpa =''\n",
    "if(grade >= 80):\n",
    "    gpa = 'A'\n",
    "elif(grade >= 70):\n",
    "    gpa = 'B'\n",
    "elif(grade >= 60):\n",
    "    gpa = 'C'\n",
    "elif(grade >= 50):\n",
    "    gpa = 'D'\n",
    "else:\n",
    "    gpa = 'F'\n",
    "print(f'Your GPA is: {gpa}')"
   ]
  },
  {
   "cell_type": "code",
   "execution_count": 28,
   "metadata": {},
   "outputs": [
    {
     "name": "stdout",
     "output_type": "stream",
     "text": [
      "The Current season is: SPRING\n"
     ]
    }
   ],
   "source": [
    "############### (5) ###############\n",
    "\n",
    "from enum import Enum\n",
    "\n",
    "class Season(Enum):\n",
    "    NO = 0\n",
    "    SUMMER = 1,\n",
    "    WINTER = 2,\n",
    "    AUTUMN = 3,\n",
    "    SPRING = 4\n",
    "\n",
    "season = Season.NO\n",
    "months = ['January','February','March','April','May','June','July','August','September','Ocotber','November','December']\n",
    "\n",
    "string = input('Please, enter the current month: ').capitalize()\n",
    "\n",
    "if(string == months[11] or string == months[0] or string == months[1]):\n",
    "    season = Season.WINTER\n",
    "elif(string == months[2] or string == months[3] or string == months[4]):\n",
    "    season = Season.SPRING\n",
    "elif(string == months[5] or string == months[6] or string == months[7]):\n",
    "    season = Season.SUMMER\n",
    "else:\n",
    "    season = Season.AUTUMN\n",
    "\n",
    "print(f'The Current season is: {season.name}')\n",
    "\n"
   ]
  },
  {
   "cell_type": "code",
   "execution_count": 29,
   "metadata": {},
   "outputs": [
    {
     "name": "stdout",
     "output_type": "stream",
     "text": [
      "The New List: ['Apple', 'Orange', 'Banana', 'Tomatoe']\n"
     ]
    }
   ],
   "source": [
    "############### (6) ###############\n",
    "\n",
    "lst = ['Apple','Orange','Banana']\n",
    "\n",
    "fruit = input('Please, enter the name of the fruit: ').capitalize()\n",
    "\n",
    "if(fruit in lst):\n",
    "    print('The fruit already exists in the list.')\n",
    "else:\n",
    "    lst.append(fruit)\n",
    "    print(f'The New List: {lst}')"
   ]
  },
  {
   "cell_type": "code",
   "execution_count": 30,
   "metadata": {},
   "outputs": [
    {
     "name": "stdout",
     "output_type": "stream",
     "text": [
      "Middle skill: R\n",
      "Has Python skill: True\n",
      "He knows statistics\n"
     ]
    }
   ],
   "source": [
    "############### (7) ###############\n",
    "\n",
    "person = {\n",
    "    'first_name': 'Baraa',\n",
    "    'last_name': 'Sallout',\n",
    "    'age': 25,\n",
    "    'country': 'Gaza-Palstine',\n",
    "    'is_married': False,\n",
    "    'skills': ['Python', 'Matlab', 'R', 'C', 'C++'],\n",
    "    'address': {\n",
    "        'street': 'Makka street',\n",
    "        'zipcode': '00000'\n",
    "    }\n",
    "}\n",
    "\n",
    "if 'skills' in person:\n",
    "    skills = person['skills']\n",
    "    middle_skill = skills[len(skills) // 2]\n",
    "    print(\"Middle skill:\", middle_skill)\n",
    "\n",
    "    has_python = 'Python' in skills\n",
    "    print(\"Has Python skill:\", has_python)\n",
    "\n",
    "    if set(skills) == {'Python', 'Matlab'}:\n",
    "        print(\"He knows machine learning\")\n",
    "    elif 'Python' in skills and 'R' in skills:\n",
    "        print(\"He knows statistics\")\n",
    "    elif 'C' in skills and 'C++' in skills:\n",
    "        print(\"He knows software development\")\n",
    "    else:\n",
    "        print(\"Unknown title\")\n",
    "\n",
    "if person['is_married'] and 'Gaza' in person['country']:\n",
    "    print(f\"{person['first_name']} {person['last_name']} lives in Gaza. He is married.\")\n"
   ]
  },
  {
   "cell_type": "code",
   "execution_count": 31,
   "metadata": {},
   "outputs": [
    {
     "name": "stdout",
     "output_type": "stream",
     "text": [
      "I am 4 years older than you.\n"
     ]
    }
   ],
   "source": [
    "############### (8) ###############\n",
    "\n",
    "my_age = 25\n",
    "your_age = int(input(\"Enter your age: \"))\n",
    "\n",
    "if your_age > my_age:\n",
    "    diff = your_age - my_age\n",
    "    print(f\"You are {diff} {'year' if diff == 1 else 'years'} older than me.\")\n",
    "elif your_age < my_age:\n",
    "    diff = my_age - your_age\n",
    "    print(f\"I am {diff} {'year' if diff == 1 else 'years'} older than you.\")\n",
    "else:\n",
    "    print(\"We are the same age!\")"
   ]
  },
  {
   "cell_type": "code",
   "execution_count": 32,
   "metadata": {},
   "outputs": [
    {
     "name": "stdout",
     "output_type": "stream",
     "text": [
      "The number is positive.\n"
     ]
    }
   ],
   "source": [
    "############### (9) ###############\n",
    "\n",
    "number = float(input(\"Enter a number: \"))\n",
    "\n",
    "if number > 0:\n",
    "    print(\"The number is positive.\")\n",
    "elif number < 0:\n",
    "    print(\"The number is negative.\")\n",
    "else:\n",
    "    print(\"The number is zero.\")"
   ]
  },
  {
   "cell_type": "code",
   "execution_count": 33,
   "metadata": {},
   "outputs": [
    {
     "name": "stdout",
     "output_type": "stream",
     "text": [
      "2000 is a leap year.\n"
     ]
    }
   ],
   "source": [
    "############### (10) ###############\n",
    "\n",
    "year = int(input(\"Enter a year: \"))\n",
    "\n",
    "if year % 4 == 0:\n",
    "    if year % 100 == 0:\n",
    "        if year % 400 == 0:\n",
    "            print(f\"{year} is a leap year.\")\n",
    "        else:\n",
    "            print(f\"{year} is not a leap year.\")\n",
    "    else:\n",
    "        print(f\"{year} is a leap year.\")\n",
    "else:\n",
    "    print(f\"{year} is not a leap year.\")"
   ]
  },
  {
   "cell_type": "markdown",
   "metadata": {},
   "source": [
    "# Excersises -> List"
   ]
  },
  {
   "cell_type": "code",
   "execution_count": 34,
   "metadata": {},
   "outputs": [
    {
     "data": {
      "text/plain": [
       "[42, 'hello', 3.14, True, None, [1, 2, 3]]"
      ]
     },
     "execution_count": 34,
     "metadata": {},
     "output_type": "execute_result"
    }
   ],
   "source": [
    "############### (1) ###############\n",
    "\n",
    "my_list = [42, 'hello', 3.14, True, None, [1, 2, 3]]\n",
    "my_list"
   ]
  },
  {
   "cell_type": "code",
   "execution_count": 35,
   "metadata": {},
   "outputs": [
    {
     "name": "stdout",
     "output_type": "stream",
     "text": [
      "6\n"
     ]
    }
   ],
   "source": [
    "############### (2) ###############\n",
    "\n",
    "print(len(my_list))"
   ]
  },
  {
   "cell_type": "code",
   "execution_count": 36,
   "metadata": {},
   "outputs": [
    {
     "name": "stdout",
     "output_type": "stream",
     "text": [
      "First: 42\n",
      "Middle: True\n",
      "Last: [1, 2, 3]\n"
     ]
    }
   ],
   "source": [
    "############### (3) ###############\n",
    "\n",
    "print(f'First: {my_list[0]}')       \n",
    "print(f'Middle: {my_list[len(my_list) // 2]}')  \n",
    "print(f'Last: {my_list[-1]}')      "
   ]
  },
  {
   "cell_type": "code",
   "execution_count": 37,
   "metadata": {},
   "outputs": [
    {
     "data": {
      "text/plain": [
       "['John', 30, 5.9, 'Single', 'USA']"
      ]
     },
     "execution_count": 37,
     "metadata": {},
     "output_type": "execute_result"
    }
   ],
   "source": [
    "############### (4) ###############\n",
    "\n",
    "my_info = ['John', 30, 5.9, 'Single', 'USA']\n",
    "my_info"
   ]
  },
  {
   "cell_type": "code",
   "execution_count": 38,
   "metadata": {},
   "outputs": [
    {
     "name": "stdout",
     "output_type": "stream",
     "text": [
      "['Guava', 'Mango', 'Apple', 'Pear', 'Fig', 'Orange', 'Banana']\n"
     ]
    }
   ],
   "source": [
    "############### (5) ###############\n",
    "\n",
    "mix_fruits = ['Guava', 'Mango', 'Apple', 'Pear', 'Fig', 'Orange', 'Banana']\n",
    "print(mix_fruits)\n"
   ]
  },
  {
   "cell_type": "code",
   "execution_count": 39,
   "metadata": {},
   "outputs": [
    {
     "name": "stdout",
     "output_type": "stream",
     "text": [
      "['Guava', 'Mango', 'Apple', 'Pear', 'Fig', 'Orange', 'Banana']\n"
     ]
    }
   ],
   "source": [
    "############### (6) ###############\n",
    "\n",
    "\n",
    "print(mix_fruits)"
   ]
  },
  {
   "cell_type": "code",
   "execution_count": 40,
   "metadata": {},
   "outputs": [
    {
     "name": "stdout",
     "output_type": "stream",
     "text": [
      "7\n"
     ]
    }
   ],
   "source": [
    "############### (7) ###############\n",
    "\n",
    "print(len(mix_fruits))"
   ]
  },
  {
   "cell_type": "code",
   "execution_count": 41,
   "metadata": {},
   "outputs": [
    {
     "name": "stdout",
     "output_type": "stream",
     "text": [
      "First: Guava\n",
      "Middle: Pear\n",
      "LastBanana\n"
     ]
    }
   ],
   "source": [
    "############### (8) ###############\n",
    "\n",
    "print(f'First: {mix_fruits[0]}')\n",
    "print(f'Middle: {mix_fruits[len(mix_fruits)//2]}')\n",
    "print(f'Last{mix_fruits[-1]}')\n"
   ]
  },
  {
   "cell_type": "code",
   "execution_count": 42,
   "metadata": {},
   "outputs": [
    {
     "name": "stdout",
     "output_type": "stream",
     "text": [
      "['Pineapple', 'Mango', 'Apple', 'Pear', 'Fig', 'Orange', 'Banana']\n"
     ]
    }
   ],
   "source": [
    "############### (9) ###############\n",
    "\n",
    "mix_fruits[0] = 'Pineapple'\n",
    "print(mix_fruits)\n"
   ]
  },
  {
   "cell_type": "code",
   "execution_count": 43,
   "metadata": {},
   "outputs": [
    {
     "name": "stdout",
     "output_type": "stream",
     "text": [
      "['Pineapple', 'Mango', 'Apple', 'Pear', 'Fig', 'Orange', 'Banana', 'Strawberry']\n"
     ]
    }
   ],
   "source": [
    "############### (10) ###############\n",
    "\n",
    "mix_fruits.append('Strawberry')\n",
    "print(mix_fruits)\n"
   ]
  },
  {
   "cell_type": "code",
   "execution_count": 44,
   "metadata": {},
   "outputs": [
    {
     "name": "stdout",
     "output_type": "stream",
     "text": [
      "['Pineapple', 'Mango', 'Apple', 'Pear', 'Papaya', 'Fig', 'Orange', 'Banana', 'Strawberry']\n"
     ]
    }
   ],
   "source": [
    "############### (11) ###############\n",
    "\n",
    "mix_fruits.insert(len(mix_fruits) // 2, 'Papaya')\n",
    "print(mix_fruits)\n"
   ]
  },
  {
   "cell_type": "code",
   "execution_count": 45,
   "metadata": {},
   "outputs": [
    {
     "name": "stdout",
     "output_type": "stream",
     "text": [
      "['Pineapple', 'MANGO', 'Apple', 'Pear', 'Papaya', 'Fig', 'Orange', 'Banana', 'Strawberry']\n"
     ]
    }
   ],
   "source": [
    "############### (12) ###############\n",
    "\n",
    "\n",
    "mix_fruits[1] = mix_fruits[1].upper()\n",
    "print(mix_fruits)"
   ]
  },
  {
   "cell_type": "code",
   "execution_count": 46,
   "metadata": {},
   "outputs": [
    {
     "name": "stdout",
     "output_type": "stream",
     "text": [
      "Pineapple-#-MANGO-#-Apple-#-Pear-#-Papaya-#-Fig-#-Orange-#-Banana-#-Strawberry\n"
     ]
    }
   ],
   "source": [
    "############### (13) ###############\n",
    "\n",
    "joined_fruits = '-#-'.join(mix_fruits)\n",
    "print(joined_fruits)\n"
   ]
  },
  {
   "cell_type": "code",
   "execution_count": 47,
   "metadata": {},
   "outputs": [
    {
     "name": "stdout",
     "output_type": "stream",
     "text": [
      "False\n"
     ]
    }
   ],
   "source": [
    "############### (14) ###############\n",
    "\n",
    "print('Mango' in mix_fruits)\n"
   ]
  },
  {
   "cell_type": "code",
   "execution_count": 48,
   "metadata": {},
   "outputs": [
    {
     "name": "stdout",
     "output_type": "stream",
     "text": [
      "['Apple', 'Banana', 'Fig', 'MANGO', 'Orange', 'Papaya', 'Pear', 'Pineapple', 'Strawberry']\n"
     ]
    }
   ],
   "source": [
    "############### (15) ###############\n",
    "\n",
    "mix_fruits.sort()\n",
    "print(mix_fruits)\n"
   ]
  },
  {
   "cell_type": "code",
   "execution_count": 49,
   "metadata": {},
   "outputs": [
    {
     "name": "stdout",
     "output_type": "stream",
     "text": [
      "['Strawberry', 'Pineapple', 'Pear', 'Papaya', 'Orange', 'MANGO', 'Fig', 'Banana', 'Apple']\n"
     ]
    }
   ],
   "source": [
    "############### (16) ###############\n",
    "\n",
    "mix_fruits.reverse()\n",
    "print(mix_fruits)\n"
   ]
  },
  {
   "cell_type": "code",
   "execution_count": 50,
   "metadata": {},
   "outputs": [
    {
     "name": "stdout",
     "output_type": "stream",
     "text": [
      "['Strawberry', 'Pineapple', 'Pear']\n"
     ]
    }
   ],
   "source": [
    "############### (17) ###############\n",
    "\n",
    "print(mix_fruits[:3])\n"
   ]
  },
  {
   "cell_type": "code",
   "execution_count": 51,
   "metadata": {},
   "outputs": [
    {
     "name": "stdout",
     "output_type": "stream",
     "text": [
      "['Fig', 'Banana', 'Apple']\n"
     ]
    }
   ],
   "source": [
    "############### (18) ###############\n",
    "\n",
    "print(mix_fruits[-3:])\n"
   ]
  },
  {
   "cell_type": "code",
   "execution_count": 52,
   "metadata": {},
   "outputs": [
    {
     "name": "stdout",
     "output_type": "stream",
     "text": [
      "Orange\n"
     ]
    }
   ],
   "source": [
    "############### (19) ###############\n",
    "\n",
    "middle = len(mix_fruits) // 2\n",
    "print(mix_fruits[middle] if len(mix_fruits) % 2 != 0 else mix_fruits[middle - 1: middle + 1])\n"
   ]
  },
  {
   "cell_type": "code",
   "execution_count": 53,
   "metadata": {},
   "outputs": [
    {
     "name": "stdout",
     "output_type": "stream",
     "text": [
      "['Pineapple', 'Pear', 'Papaya', 'Orange', 'MANGO', 'Fig', 'Banana', 'Apple']\n"
     ]
    }
   ],
   "source": [
    "############### (20) ###############\n",
    "\n",
    "mix_fruits.pop(0)\n",
    "print(mix_fruits)\n"
   ]
  },
  {
   "cell_type": "code",
   "execution_count": 54,
   "metadata": {},
   "outputs": [
    {
     "name": "stdout",
     "output_type": "stream",
     "text": [
      "['Pineapple', 'Pear', 'Papaya', 'Orange', 'Fig', 'Banana', 'Apple']\n"
     ]
    }
   ],
   "source": [
    "############### (21) ###############\n",
    "\n",
    "middle = len(mix_fruits) // 2\n",
    "mix_fruits.pop(middle)\n",
    "print(mix_fruits)\n"
   ]
  },
  {
   "cell_type": "code",
   "execution_count": 55,
   "metadata": {},
   "outputs": [
    {
     "name": "stdout",
     "output_type": "stream",
     "text": [
      "['Pineapple', 'Pear', 'Papaya', 'Orange', 'Fig', 'Banana']\n"
     ]
    }
   ],
   "source": [
    "############### (22) ###############\n",
    "\n",
    "mix_fruits.pop()\n",
    "print(mix_fruits)\n"
   ]
  },
  {
   "cell_type": "code",
   "execution_count": 56,
   "metadata": {},
   "outputs": [
    {
     "name": "stdout",
     "output_type": "stream",
     "text": [
      "[]\n"
     ]
    }
   ],
   "source": [
    "############### (23) ###############\n",
    "\n",
    "mix_fruits.clear()\n",
    "print(mix_fruits)\n"
   ]
  },
  {
   "cell_type": "code",
   "execution_count": 57,
   "metadata": {},
   "outputs": [],
   "source": [
    "############### (24) ###############\n",
    "\n",
    "del mix_fruits\n"
   ]
  },
  {
   "cell_type": "code",
   "execution_count": 58,
   "metadata": {},
   "outputs": [
    {
     "name": "stdout",
     "output_type": "stream",
     "text": [
      "['HTML', 'CSS', 'JS', 'React', 'Redux', 'Node', 'Express', 'MongoDB']\n"
     ]
    }
   ],
   "source": [
    "############### (25) ###############\n",
    "\n",
    "front_end = ['HTML', 'CSS', 'JS', 'React', 'Redux']\n",
    "back_end = ['Node', 'Express', 'MongoDB']\n",
    "full_stack = front_end + back_end\n",
    "print(full_stack)\n"
   ]
  },
  {
   "cell_type": "code",
   "execution_count": 59,
   "metadata": {},
   "outputs": [
    {
     "name": "stdout",
     "output_type": "stream",
     "text": [
      "['HTML', 'CSS', 'JS', 'React', 'Redux', 'Python', 'SQL', 'Node', 'Express', 'MongoDB']\n"
     ]
    }
   ],
   "source": [
    "############### (26) ###############\n",
    "\n",
    "full_stack.insert(full_stack.index('Redux') + 1, 'Python')\n",
    "full_stack.insert(full_stack.index('Python') + 1, 'SQL')\n",
    "print(full_stack)\n"
   ]
  },
  {
   "cell_type": "markdown",
   "metadata": {},
   "source": [
    "# List Excersises -> Level 2"
   ]
  },
  {
   "cell_type": "code",
   "execution_count": 60,
   "metadata": {},
   "outputs": [
    {
     "name": "stdout",
     "output_type": "stream",
     "text": [
      "Min age: 19 Max age: 26\n",
      "Median: 24.5\n",
      "Average age: 22.083333333333332\n",
      "Age range: 0\n",
      "Difference: 3.083333333333332 3.083333333333332\n"
     ]
    }
   ],
   "source": [
    "############### (1) ###############\n",
    "\n",
    "ages = [19, 23, 19, 25, 21, 20, 25, 26, 25, 24]\n",
    "\n",
    "ages.sort()\n",
    "print(\"Min age:\", ages[0], \"Max age:\", ages[-1])\n",
    "\n",
    "ages.append(ages[0])\n",
    "ages.append(ages[-1])\n",
    "\n",
    "median = (ages[len(ages)//2] + ages[(len(ages)-1)//2]) / 2\n",
    "print(\"Median:\", median)\n",
    "\n",
    "average = sum(ages) / len(ages)\n",
    "print(\"Average age:\", average)\n",
    "\n",
    "age_range = ages[-1] - ages[0]\n",
    "print(\"Age range:\", age_range)\n",
    "\n",
    "print(\"Difference:\", abs(ages[0] - average), abs(ages[-1] - average))\n"
   ]
  },
  {
   "cell_type": "code",
   "execution_count": 61,
   "metadata": {},
   "outputs": [
    {
     "name": "stdout",
     "output_type": "stream",
     "text": [
      "Finland\n"
     ]
    }
   ],
   "source": [
    "############### (2) ###############\n",
    "\n",
    "countries = ['India', 'Russia', 'China', 'Finland', 'Sweden', 'Norway', 'Denmark']\n",
    "middle = len(countries) // 2\n",
    "print(countries[middle] if len(countries) % 2 != 0 else countries[middle - 1: middle + 1])\n"
   ]
  },
  {
   "cell_type": "code",
   "execution_count": 62,
   "metadata": {},
   "outputs": [
    {
     "name": "stdout",
     "output_type": "stream",
     "text": [
      "['India', 'Russia', 'China', 'Finland'] ['Sweden', 'Norway', 'Denmark']\n"
     ]
    }
   ],
   "source": [
    "############### (3) ###############\n",
    "\n",
    "first_half = countries[:len(countries)//2 + len(countries) % 2]\n",
    "second_half = countries[len(countries)//2 + len(countries) % 2:]\n",
    "print(first_half, second_half)\n"
   ]
  },
  {
   "cell_type": "code",
   "execution_count": 63,
   "metadata": {},
   "outputs": [
    {
     "name": "stdout",
     "output_type": "stream",
     "text": [
      "India Russia China ['Finland', 'Sweden', 'Norway', 'Denmark']\n"
     ]
    }
   ],
   "source": [
    "############### (4) ###############\n",
    "first, second, third, *scandic = ['India', 'Russia', 'China', 'Finland', 'Sweden', 'Norway', 'Denmark']\n",
    "print(first, second, third, scandic)\n",
    "\n"
   ]
  },
  {
   "cell_type": "markdown",
   "metadata": {},
   "source": [
    "### Tuple Excersises"
   ]
  },
  {
   "cell_type": "code",
   "execution_count": 64,
   "metadata": {},
   "outputs": [],
   "source": [
    "############### (1) ###############\n",
    "\n",
    "fruits = ('Apple', 'Banana', 'Mango')\n",
    "vegetables = ('Carrot', 'Broccoli', 'Spinach')\n"
   ]
  },
  {
   "cell_type": "code",
   "execution_count": 65,
   "metadata": {},
   "outputs": [
    {
     "name": "stdout",
     "output_type": "stream",
     "text": [
      "('Apple', 'Banana', 'Mango', 'Carrot', 'Broccoli', 'Spinach')\n"
     ]
    }
   ],
   "source": [
    "############### (2) ###############\n",
    "\n",
    "fruits_vegetables = fruits + vegetables\n",
    "print(fruits_vegetables)\n"
   ]
  },
  {
   "cell_type": "code",
   "execution_count": 66,
   "metadata": {},
   "outputs": [
    {
     "name": "stdout",
     "output_type": "stream",
     "text": [
      "6\n"
     ]
    }
   ],
   "source": [
    "############### (3) ###############\n",
    "\n",
    "print(len(fruits_vegetables))\n"
   ]
  },
  {
   "cell_type": "code",
   "execution_count": 67,
   "metadata": {},
   "outputs": [
    {
     "name": "stdout",
     "output_type": "stream",
     "text": [
      "('Apple', 'Banana', 'Mango', 'Carrot', 'Broccoli', 'Spinach', 'Mushroom', 'Coffee')\n"
     ]
    }
   ],
   "source": [
    "############### (4) ###############\n",
    "\n",
    "food_tuple = fruits_vegetables + ('Mushroom', 'Coffee')\n",
    "print(food_tuple)\n"
   ]
  },
  {
   "cell_type": "markdown",
   "metadata": {},
   "source": [
    "###  Excersise -> Level 1"
   ]
  },
  {
   "cell_type": "code",
   "execution_count": 68,
   "metadata": {},
   "outputs": [
    {
     "ename": "NameError",
     "evalue": "name 'A' is not defined",
     "output_type": "error",
     "traceback": [
      "\u001b[1;31m---------------------------------------------------------------------------\u001b[0m",
      "\u001b[1;31mNameError\u001b[0m                                 Traceback (most recent call last)",
      "Cell \u001b[1;32mIn[68], line 3\u001b[0m\n\u001b[0;32m      1\u001b[0m \u001b[38;5;66;03m############### (1) ###############\u001b[39;00m\n\u001b[1;32m----> 3\u001b[0m union_set \u001b[38;5;241m=\u001b[39m \u001b[43mA\u001b[49m\u001b[38;5;241m.\u001b[39munion(B)\n\u001b[0;32m      4\u001b[0m \u001b[38;5;28mprint\u001b[39m(union_set)\n",
      "\u001b[1;31mNameError\u001b[0m: name 'A' is not defined"
     ]
    }
   ],
   "source": [
    "############### (1) ###############\n",
    "\n",
    "union_set = A.union(B)\n",
    "print(union_set)\n"
   ]
  },
  {
   "cell_type": "code",
   "execution_count": null,
   "metadata": {},
   "outputs": [],
   "source": [
    "############### (2) ###############\n",
    "\n",
    "union_set = A.union(B)\n",
    "print(union_set)\n"
   ]
  },
  {
   "cell_type": "code",
   "execution_count": null,
   "metadata": {},
   "outputs": [],
   "source": [
    "############### (3) ###############\n",
    "\n",
    "print(A.issubset(B))\n"
   ]
  },
  {
   "cell_type": "code",
   "execution_count": null,
   "metadata": {},
   "outputs": [],
   "source": [
    "############### (4) ###############\n",
    "\n",
    "print(A.isdisjoint(B))\n"
   ]
  },
  {
   "cell_type": "code",
   "execution_count": null,
   "metadata": {},
   "outputs": [],
   "source": [
    "############### (5) ###############\n",
    "\n",
    "A.update(B)\n",
    "print(A)  # A now includes elements from B\n",
    "\n",
    "B.update(A)\n",
    "print(B)  # B now includes elements from A\n"
   ]
  },
  {
   "cell_type": "code",
   "execution_count": null,
   "metadata": {},
   "outputs": [],
   "source": [
    "############### (6) ###############\n",
    "\n",
    "symmetric_diff = A.symmetric_difference(B)\n",
    "print(symmetric_diff)\n"
   ]
  },
  {
   "cell_type": "code",
   "execution_count": null,
   "metadata": {},
   "outputs": [],
   "source": [
    "############### (7) ###############\n",
    "\n",
    "del A\n",
    "del B\n"
   ]
  },
  {
   "cell_type": "markdown",
   "metadata": {},
   "source": [
    "### Excersise -> Level 3"
   ]
  },
  {
   "cell_type": "code",
   "execution_count": null,
   "metadata": {},
   "outputs": [],
   "source": [
    "############### (1) ###############\n",
    "\n",
    "num_set = set(num)\n",
    "print(len(num), len(num_set))\n",
    "if len(num) > len(num_set):\n",
    "    print(\"List is bigger.\")\n",
    "else:\n",
    "    print(\"Set is bigger.\")\n"
   ]
  },
  {
   "cell_type": "code",
   "execution_count": null,
   "metadata": {},
   "outputs": [],
   "source": [
    "############### (2) ###############\n",
    "\n",
    "String: immutable, indexed\n",
    "List: Immutable, Ordered, indexed, allows duplicates \n",
    "Set: Sorted, Mutable, unordered, doesn't allow duplicates\n",
    "Tuple: Immutable, allows duplicates, indexed"
   ]
  },
  {
   "cell_type": "code",
   "execution_count": null,
   "metadata": {},
   "outputs": [],
   "source": [
    "############### (3) ###############\n",
    "\n",
    "sentence = \"I am a researcher cum teacher and I love to inspire and teach people.\"\n",
    "unique_words = set(sentence.split())\n",
    "print(len(unique_words), unique_words)\n"
   ]
  },
  {
   "cell_type": "markdown",
   "metadata": {},
   "source": [
    "# Excersise -> Loops"
   ]
  },
  {
   "cell_type": "code",
   "execution_count": null,
   "metadata": {},
   "outputs": [
    {
     "name": "stdout",
     "output_type": "stream",
     "text": [
      "0\n",
      "1\n",
      "2\n",
      "3\n",
      "4\n",
      "5\n",
      "6\n",
      "7\n",
      "8\n",
      "9\n",
      "10\n",
      "-----------------------\n",
      "0\n",
      "1\n",
      "2\n",
      "3\n",
      "4\n",
      "5\n",
      "6\n",
      "7\n",
      "8\n",
      "9\n",
      "10\n"
     ]
    }
   ],
   "source": [
    "############### (1) ###############\n",
    "\n",
    "for i in range(0,11):\n",
    "    print(i)\n",
    "\n",
    "print('-----------------------')\n",
    "\n",
    "i = 0\n",
    "while i <=10:\n",
    "    print(i)\n",
    "    i+=1"
   ]
  },
  {
   "cell_type": "code",
   "execution_count": null,
   "metadata": {},
   "outputs": [
    {
     "name": "stdout",
     "output_type": "stream",
     "text": [
      "10\n",
      "9\n",
      "8\n",
      "7\n",
      "6\n",
      "5\n",
      "4\n",
      "3\n",
      "2\n",
      "1\n",
      "0\n",
      "==========================\n",
      "10\n",
      "9\n",
      "8\n",
      "7\n",
      "6\n",
      "5\n",
      "4\n",
      "3\n",
      "2\n",
      "1\n",
      "0\n"
     ]
    }
   ],
   "source": [
    "############### (2) ###############\n",
    "\n",
    "for i in range(10,-1,-1):\n",
    "    print(i)\n",
    "print('==========================')\n",
    "i = 10\n",
    "while i >=0:\n",
    "    print(i)\n",
    "    i-=1"
   ]
  },
  {
   "cell_type": "code",
   "execution_count": null,
   "metadata": {},
   "outputs": [
    {
     "name": "stdout",
     "output_type": "stream",
     "text": [
      "# # # # # \n",
      "# # # # # \n",
      "# # # # # \n",
      "# # # # # \n",
      "# # # # # \n"
     ]
    }
   ],
   "source": [
    "############### (3) ###############\n",
    "\n",
    "rows = int(input('Please, enter the number of rows: '))\n",
    "columns = int(input('Now, enter the number of columns: '))\n",
    "for i in range(0,rows):\n",
    "    print('# ' * columns)\n",
    "    "
   ]
  },
  {
   "cell_type": "code",
   "execution_count": null,
   "metadata": {},
   "outputs": [
    {
     "name": "stdout",
     "output_type": "stream",
     "text": [
      "       #\n",
      "      ###\n",
      "     #####\n",
      "    #######\n",
      "   #########\n",
      "  ###########\n",
      " #############\n"
     ]
    }
   ],
   "source": [
    "############### (4) ###############\n",
    "\n",
    "rows = int(input('Please, enter the number of rows: '))\n",
    "\n",
    "for i in range(1,(rows+1)):\n",
    "    hash ='#' * ((i*2)-1)\n",
    "    space = ' ' * (rows-i+1)\n",
    "    print(space+hash)"
   ]
  },
  {
   "cell_type": "code",
   "execution_count": null,
   "metadata": {},
   "outputs": [
    {
     "name": "stdout",
     "output_type": "stream",
     "text": [
      "0 x 0 = 0\n",
      "1 x 1 = 1\n",
      "2 x 2 = 4\n",
      "3 x 3 = 9\n",
      "4 x 4 = 16\n",
      "5 x 5 = 25\n",
      "6 x 6 = 36\n",
      "7 x 7 = 49\n",
      "8 x 8 = 64\n",
      "9 x 9 = 81\n",
      "10 x 10 = 100\n"
     ]
    }
   ],
   "source": [
    "############### (5) ###############\n",
    "\n",
    "num = 0\n",
    "\n",
    "while num <=10:\n",
    "    print(f'{num} x {num} = {num**2}')\n",
    "    num+=1"
   ]
  },
  {
   "cell_type": "code",
   "execution_count": null,
   "metadata": {},
   "outputs": [
    {
     "name": "stdout",
     "output_type": "stream",
     "text": [
      "Python\n",
      "Numpy\n",
      "Pandas\n",
      "Scikit\n",
      "Pytorch\n"
     ]
    }
   ],
   "source": [
    "############### (6) ###############\n",
    "\n",
    "libs = ['Python','Numpy','Pandas','Scikit','Pytorch']\n",
    "for i in libs:\n",
    "    print(f'{i}')"
   ]
  },
  {
   "cell_type": "code",
   "execution_count": null,
   "metadata": {},
   "outputs": [
    {
     "name": "stdout",
     "output_type": "stream",
     "text": [
      "0\n",
      "2\n",
      "4\n",
      "6\n",
      "8\n",
      "10\n",
      "12\n",
      "14\n",
      "16\n",
      "18\n",
      "20\n",
      "22\n",
      "24\n",
      "26\n",
      "28\n",
      "30\n",
      "32\n",
      "34\n",
      "36\n",
      "38\n",
      "40\n",
      "42\n",
      "44\n",
      "46\n",
      "48\n",
      "50\n",
      "52\n",
      "54\n",
      "56\n",
      "58\n",
      "60\n",
      "62\n",
      "64\n",
      "66\n",
      "68\n",
      "70\n",
      "72\n",
      "74\n",
      "76\n",
      "78\n",
      "80\n",
      "82\n",
      "84\n",
      "86\n",
      "88\n",
      "90\n",
      "92\n",
      "94\n",
      "96\n",
      "98\n",
      "100\n"
     ]
    }
   ],
   "source": [
    "############### (7) ###############\n",
    "\n",
    "for i in range(0,101,2):\n",
    "    print(i)"
   ]
  },
  {
   "cell_type": "code",
   "execution_count": null,
   "metadata": {},
   "outputs": [
    {
     "name": "stdout",
     "output_type": "stream",
     "text": [
      "1\n",
      "3\n",
      "5\n",
      "7\n",
      "9\n",
      "11\n",
      "13\n",
      "15\n",
      "17\n",
      "19\n",
      "21\n",
      "23\n",
      "25\n",
      "27\n",
      "29\n",
      "31\n",
      "33\n",
      "35\n",
      "37\n",
      "39\n",
      "41\n",
      "43\n",
      "45\n",
      "47\n",
      "49\n",
      "51\n",
      "53\n",
      "55\n",
      "57\n",
      "59\n",
      "61\n",
      "63\n",
      "65\n",
      "67\n",
      "69\n",
      "71\n",
      "73\n",
      "75\n",
      "77\n",
      "79\n",
      "81\n",
      "83\n",
      "85\n",
      "87\n",
      "89\n",
      "91\n",
      "93\n",
      "95\n",
      "97\n",
      "99\n"
     ]
    }
   ],
   "source": [
    "############### (8) ###############\n",
    "\n",
    "for i in range(1,100,2):\n",
    "    print(i)"
   ]
  },
  {
   "cell_type": "markdown",
   "metadata": {},
   "source": [
    "### Excersise -> Level 2"
   ]
  },
  {
   "cell_type": "code",
   "execution_count": null,
   "metadata": {},
   "outputs": [
    {
     "name": "stdout",
     "output_type": "stream",
     "text": [
      "sum of all numbers is 5050\n"
     ]
    }
   ],
   "source": [
    "############### (1) ###############\n",
    "\n",
    "sum = 0\n",
    "for i in range(0,101):\n",
    "    sum+=i\n",
    "print(f'sum of all numbers is {sum}')"
   ]
  },
  {
   "cell_type": "code",
   "execution_count": null,
   "metadata": {},
   "outputs": [
    {
     "name": "stdout",
     "output_type": "stream",
     "text": [
      "sum of even is 2550, sum of odd is 2500\n"
     ]
    }
   ],
   "source": [
    "############### (2) ###############\n",
    "\n",
    "even = 0\n",
    "odd = 0\n",
    "for i in range(0,101):\n",
    "    if(i%2 == 0):\n",
    "        even+=i\n",
    "    else:\n",
    "        odd+=i\n",
    "print(f'sum of even is {even}, sum of odd is {odd}')"
   ]
  },
  {
   "cell_type": "markdown",
   "metadata": {},
   "source": [
    "### Excersise -> Level 3"
   ]
  },
  {
   "cell_type": "code",
   "execution_count": null,
   "metadata": {},
   "outputs": [
    {
     "name": "stdout",
     "output_type": "stream",
     "text": [
      "  'Finland',\n",
      "\n",
      "  'Iceland',\n",
      "\n",
      "  'Ireland',\n",
      "\n",
      "  'Marshall Islands',\n",
      "\n",
      "  'Netherlands',\n",
      "\n",
      "  'New Zealand',\n",
      "\n",
      "  'Poland',\n",
      "\n",
      "  'Solomon Islands',\n",
      "\n",
      "  'Swaziland',\n",
      "\n",
      "  'Switzerland',\n",
      "\n",
      "  'Thailand',\n",
      "\n"
     ]
    }
   ],
   "source": [
    "############### (1) ###############\n",
    "\n",
    "with open('countries.py','r') as file:\n",
    "    for country in file:\n",
    "        if('land' in country):\n",
    "            print(country)"
   ]
  },
  {
   "cell_type": "code",
   "execution_count": null,
   "metadata": {},
   "outputs": [
    {
     "name": "stdout",
     "output_type": "stream",
     "text": [
      "['lemon', 'mango', 'orange', 'banana']\n"
     ]
    }
   ],
   "source": [
    "############### (2) ###############\n",
    "\n",
    "fruits = ['banana', 'orange', 'mango', 'lemon']\n",
    "\n",
    "print(fruits[::-1]) "
   ]
  },
  {
   "cell_type": "code",
   "execution_count": null,
   "metadata": {},
   "outputs": [
    {
     "name": "stdout",
     "output_type": "stream",
     "text": [
      "The total number of languages: 112\n"
     ]
    }
   ],
   "source": [
    "############### (3)[1] ###############\n",
    "\n",
    "from countries_details_dat import countries_data as cd\n",
    "\n",
    "langs_set = set()\n",
    "for country in cd:\n",
    "    for lang in country['languages']:\n",
    "        langs_set.add(lang)\n",
    "length = len(langs_set)\n",
    "\n",
    "print('The total number of languages:',length)\n"
   ]
  },
  {
   "cell_type": "markdown",
   "metadata": {},
   "source": [
    "Question 3 -> [2] I Don't know the answer"
   ]
  },
  {
   "cell_type": "markdown",
   "metadata": {},
   "source": [
    "Question 3 -> [3] I Don't know the answer"
   ]
  },
  {
   "cell_type": "markdown",
   "metadata": {},
   "source": [
    "### Excersise -> while"
   ]
  },
  {
   "cell_type": "code",
   "execution_count": null,
   "metadata": {},
   "outputs": [
    {
     "name": "stdout",
     "output_type": "stream",
     "text": [
      "Aaila\n"
     ]
    }
   ],
   "source": [
    "############### (1) ###############\n",
    "\n",
    "word = 'Aaila99godfod'\n",
    "i = 0\n",
    "p = ''\n",
    "while(not word[i].isdigit()):\n",
    "    p+=word[i]\n",
    "    i+=1\n",
    "print(p)"
   ]
  },
  {
   "cell_type": "code",
   "execution_count": null,
   "metadata": {},
   "outputs": [
    {
     "name": "stdout",
     "output_type": "stream",
     "text": [
      "A\n",
      "a\n",
      "i\n",
      "l\n",
      "a\n",
      "g\n",
      "o\n",
      "d\n",
      "f\n",
      "o\n",
      "d\n"
     ]
    }
   ],
   "source": [
    "############### (2) ###############\n",
    "\n",
    "i = 0\n",
    "while(i <len(word)):\n",
    "    if(not word[i].isalpha()):\n",
    "        i+=1\n",
    "        continue\n",
    "    print(word[i])\n",
    "    i+=1"
   ]
  },
  {
   "cell_type": "code",
   "execution_count": null,
   "metadata": {},
   "outputs": [
    {
     "name": "stdout",
     "output_type": "stream",
     "text": [
      "[1, 3, 5, 7, 9]\n"
     ]
    }
   ],
   "source": [
    "num = int(input('Please, enter a number: '))\n",
    "i = 1\n",
    "lst = []\n",
    "while(i < num): \n",
    "    lst.append(i)\n",
    "    i+=2\n",
    "\n",
    "print(lst)"
   ]
  },
  {
   "cell_type": "code",
   "execution_count": null,
   "metadata": {},
   "outputs": [],
   "source": []
  }
 ],
 "metadata": {
  "kernelspec": {
   "display_name": "base",
   "language": "python",
   "name": "python3"
  },
  "language_info": {
   "codemirror_mode": {
    "name": "ipython",
    "version": 3
   },
   "file_extension": ".py",
   "mimetype": "text/x-python",
   "name": "python",
   "nbconvert_exporter": "python",
   "pygments_lexer": "ipython3",
   "version": "3.11.5"
  }
 },
 "nbformat": 4,
 "nbformat_minor": 2
}
